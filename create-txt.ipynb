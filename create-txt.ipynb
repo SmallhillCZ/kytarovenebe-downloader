{
 "cells": [
  {
   "cell_type": "code",
   "execution_count": 18,
   "metadata": {},
   "outputs": [],
   "source": [
    "import os\n",
    "import json\n",
    "import re"
   ]
  },
  {
   "cell_type": "code",
   "execution_count": 19,
   "metadata": {},
   "outputs": [],
   "source": [
    "SOURCE = \"output/json\"\n",
    "TARGET = \"output/txt\"\n",
    "TARGET_TABS = \"output/txt-tabs\""
   ]
  },
  {
   "cell_type": "code",
   "execution_count": 20,
   "metadata": {},
   "outputs": [],
   "source": [
    "def clear_dir(dirname):\n",
    "  for filename in os.listdir(dirname):\n",
    "    file_path = os.path.join(dirname, filename)\n",
    "    os.unlink(file_path)"
   ]
  },
  {
   "cell_type": "code",
   "execution_count": 21,
   "metadata": {},
   "outputs": [
    {
     "ename": "OSError",
     "evalue": "[Errno 22] Invalid argument: \"output/txt\\\\Green Day - Bab's Uvula Who?.txt\"",
     "output_type": "error",
     "traceback": [
      "\u001b[1;31m---------------------------------------------------------------------------\u001b[0m",
      "\u001b[1;31mOSError\u001b[0m                                   Traceback (most recent call last)",
      "\u001b[1;32m~\\AppData\\Local\\Temp/ipykernel_6468/2117802711.py\u001b[0m in \u001b[0;36m<module>\u001b[1;34m\u001b[0m\n\u001b[0;32m     25\u001b[0m       \u001b[0mf\u001b[0m\u001b[1;33m.\u001b[0m\u001b[0mclose\u001b[0m\u001b[1;33m(\u001b[0m\u001b[1;33m)\u001b[0m\u001b[1;33m\u001b[0m\u001b[1;33m\u001b[0m\u001b[0m\n\u001b[0;32m     26\u001b[0m \u001b[1;33m\u001b[0m\u001b[0m\n\u001b[1;32m---> 27\u001b[1;33m     \u001b[0mf\u001b[0m \u001b[1;33m=\u001b[0m \u001b[0mopen\u001b[0m\u001b[1;33m(\u001b[0m\u001b[0mos\u001b[0m\u001b[1;33m.\u001b[0m\u001b[0mpath\u001b[0m\u001b[1;33m.\u001b[0m\u001b[0mjoin\u001b[0m\u001b[1;33m(\u001b[0m\u001b[0mTARGET\u001b[0m\u001b[1;33m,\u001b[0m \u001b[0mfilename\u001b[0m\u001b[1;33m)\u001b[0m\u001b[1;33m,\u001b[0m \u001b[1;34m\"w\"\u001b[0m\u001b[1;33m,\u001b[0m \u001b[0mencoding\u001b[0m\u001b[1;33m=\u001b[0m\u001b[1;34m\"utf-8\"\u001b[0m\u001b[1;33m)\u001b[0m\u001b[1;33m\u001b[0m\u001b[1;33m\u001b[0m\u001b[0m\n\u001b[0m\u001b[0;32m     28\u001b[0m     \u001b[0mf\u001b[0m\u001b[1;33m.\u001b[0m\u001b[0mwrite\u001b[0m\u001b[1;33m(\u001b[0m\u001b[0mdata\u001b[0m\u001b[1;33m[\u001b[0m\u001b[1;34m\"tab\"\u001b[0m\u001b[1;33m]\u001b[0m\u001b[1;33m)\u001b[0m\u001b[1;33m\u001b[0m\u001b[1;33m\u001b[0m\u001b[0m\n\u001b[0;32m     29\u001b[0m     \u001b[0mf\u001b[0m\u001b[1;33m.\u001b[0m\u001b[0mclose\u001b[0m\u001b[1;33m(\u001b[0m\u001b[1;33m)\u001b[0m\u001b[1;33m\u001b[0m\u001b[1;33m\u001b[0m\u001b[0m\n",
      "\u001b[1;31mOSError\u001b[0m: [Errno 22] Invalid argument: \"output/txt\\\\Green Day - Bab's Uvula Who?.txt\""
     ]
    }
   ],
   "source": [
    "files = os.listdir(SOURCE)\n",
    "\n",
    "clear_dir(TARGET)\n",
    "clear_dir(TARGET_TABS)\n",
    "\n",
    "re_tab = re.compile(r\"-\\d-\")\n",
    "\n",
    "for file in files:\n",
    "\n",
    "    src = open(os.path.join(SOURCE, file), \"r\", encoding=\"utf-8\")\n",
    "    \n",
    "    try:\n",
    "      data = json.load(src)\n",
    "    except:\n",
    "      continue\n",
    "\n",
    "    src.close()\n",
    "\n",
    "    filename = data[\"title\"] + \".txt\"\n",
    "    filename = filename.replace(\"/\",\"_\")\n",
    "    filename = filename.replace(\"?\",\"_\")\n",
    "\n",
    "    if re_tab.search(data[\"tab\"]):\n",
    "      f = open(os.path.join(TARGET_TABS, filename), \"w\", encoding=\"utf-8\")\n",
    "      f.write(data[\"tab\"])\n",
    "      f.close()\n",
    "\n",
    "    f = open(os.path.join(TARGET, filename), \"w\", encoding=\"utf-8\")\n",
    "    f.write(data[\"tab\"])\n",
    "    f.close()\n",
    "\n"
   ]
  }
 ],
 "metadata": {
  "interpreter": {
   "hash": "c1cc9d08c99e05cd0ef8f88e2c2514334eadafc80cba125cf7b7585e3c330d21"
  },
  "kernelspec": {
   "display_name": "Python 3.9.7 64-bit ('tabs-downloader': conda)",
   "name": "python3"
  },
  "language_info": {
   "codemirror_mode": {
    "name": "ipython",
    "version": 3
   },
   "file_extension": ".py",
   "mimetype": "text/x-python",
   "name": "python",
   "nbconvert_exporter": "python",
   "pygments_lexer": "ipython3",
   "version": "3.9.7"
  },
  "orig_nbformat": 4
 },
 "nbformat": 4,
 "nbformat_minor": 2
}
