{
 "cells": [
  {
   "cell_type": "code",
   "execution_count": 22,
   "metadata": {},
   "outputs": [],
   "source": [
    "import os\n",
    "import json\n",
    "import re"
   ]
  },
  {
   "cell_type": "code",
   "execution_count": 23,
   "metadata": {},
   "outputs": [],
   "source": [
    "SOURCE = \"output/json\"\n",
    "TARGET = \"output/txt\"\n",
    "TARGET_TABS = \"output/txt-tabs\""
   ]
  },
  {
   "cell_type": "code",
   "execution_count": 24,
   "metadata": {},
   "outputs": [],
   "source": [
    "def clear_dir(dirname):\n",
    "  for filename in os.listdir(dirname):\n",
    "    file_path = os.path.join(dirname, filename)\n",
    "    os.unlink(file_path)"
   ]
  },
  {
   "cell_type": "code",
   "execution_count": 25,
   "metadata": {},
   "outputs": [],
   "source": [
    "files = os.listdir(SOURCE)\n",
    "\n",
    "clear_dir(TARGET)\n",
    "clear_dir(TARGET_TABS)\n",
    "\n",
    "re_tab = re.compile(r\"-\\d-\")\n",
    "\n",
    "for file in files:\n",
    "\n",
    "    src = open(os.path.join(SOURCE, file), \"r\", encoding=\"utf-8\")\n",
    "    \n",
    "    try:\n",
    "      data = json.load(src)\n",
    "    except:\n",
    "      continue\n",
    "\n",
    "    src.close()\n",
    "\n",
    "    filename = data[\"title\"] + \".txt\"\n",
    "    filename = filename.replace(\"/\",\"_\")\n",
    "    filename = filename.replace(\"?\",\"_\")\n",
    "\n",
    "    if re_tab.search(data[\"tab\"]):\n",
    "      f = open(os.path.join(TARGET_TABS, filename), \"w\", encoding=\"utf-8\")\n",
    "      f.write(data[\"tab\"])\n",
    "      f.close()\n",
    "\n",
    "    f = open(os.path.join(TARGET, filename), \"w\", encoding=\"utf-8\")\n",
    "    f.write(data[\"tab\"])\n",
    "    f.close()\n",
    "\n"
   ]
  }
 ],
 "metadata": {
  "interpreter": {
   "hash": "c1cc9d08c99e05cd0ef8f88e2c2514334eadafc80cba125cf7b7585e3c330d21"
  },
  "kernelspec": {
   "display_name": "Python 3.9.7 64-bit ('tabs-downloader': conda)",
   "name": "python3"
  },
  "language_info": {
   "codemirror_mode": {
    "name": "ipython",
    "version": 3
   },
   "file_extension": ".py",
   "mimetype": "text/x-python",
   "name": "python",
   "nbconvert_exporter": "python",
   "pygments_lexer": "ipython3",
   "version": "3.9.7"
  },
  "orig_nbformat": 4
 },
 "nbformat": 4,
 "nbformat_minor": 2
}
