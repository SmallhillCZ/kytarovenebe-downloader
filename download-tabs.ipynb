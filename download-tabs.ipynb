{
 "cells": [
  {
   "cell_type": "markdown",
   "metadata": {},
   "source": [
    "# Stažení všech tabulatur do JSON"
   ]
  },
  {
   "cell_type": "markdown",
   "metadata": {},
   "source": [
    "## Importy"
   ]
  },
  {
   "cell_type": "code",
   "execution_count": null,
   "metadata": {},
   "outputs": [],
   "source": [
    "import waybackpy\n",
    "import re\n",
    "from bs4 import BeautifulSoup\n",
    "import time\n",
    "from IPython.display import clear_output\n",
    "import os\n",
    "import json\n",
    "from waybackpy.exceptions import WaybackError"
   ]
  },
  {
   "cell_type": "markdown",
   "metadata": {},
   "source": [
    "## Nastavení\n",
    "\n",
    "**MAX_YEAR**: nejvišší rok snapshotu\n",
    "\n",
    "**MIN_YEAR**: nejnižší rok snapshotu\n",
    "\n",
    "**API_ERROR_DELAY**: počet vteřin, které se počká, než se zkusí druhý pokus o stažení"
   ]
  },
  {
   "cell_type": "code",
   "execution_count": null,
   "metadata": {},
   "outputs": [],
   "source": [
    "MAX_YEAR = 2018\n",
    "MIN_YEAR = 2012\n",
    "API_ERROR_DELAY = 5"
   ]
  },
  {
   "cell_type": "markdown",
   "metadata": {},
   "source": [
    "## Stáhnout všechny uložené URL z kytarovenebe.cz"
   ]
  },
  {
   "cell_type": "code",
   "execution_count": null,
   "metadata": {},
   "outputs": [],
   "source": [
    "known_urls = list(waybackpy.Url(url=\"kytarovenebe.cz\").known_urls(subdomain=False))\n",
    "\n",
    "known_urls[0:5]"
   ]
  },
  {
   "cell_type": "markdown",
   "metadata": {},
   "source": [
    "## Vyfiltrovat URL tabulatur"
   ]
  },
  {
   "cell_type": "code",
   "execution_count": null,
   "metadata": {},
   "outputs": [],
   "source": [
    "re_tab = re.compile(r\"ukaz-tabulaturu\\.php\\?id=\")\n",
    "\n",
    "tab_urls = list(filter(lambda url: re_tab.search(url), known_urls))\n",
    "\n",
    "tab_urls = list(dict.fromkeys(tab_urls))\n",
    "\n",
    "tab_urls[0:5]"
   ]
  },
  {
   "cell_type": "markdown",
   "metadata": {},
   "source": [
    "## Získá nejnovější snapshot v rozmezí MAX_YEAR a MIN_YEAR"
   ]
  },
  {
   "cell_type": "code",
   "execution_count": null,
   "metadata": {},
   "outputs": [],
   "source": [
    "def get_latest(tab_url, minus_year = 0):\n",
    "  try_year = MAX_YEAR - minus_year\n",
    "\n",
    "  if try_year < MIN_YEAR:\n",
    "    return None\n",
    "\n",
    "  archive_url = waybackpy.Url(url=tab_url).near(year=try_year)\n",
    "  print(\" => {}\".format(archive_url))\n",
    "  \n",
    "\n",
    "  if archive_url.timestamp.year > MAX_YEAR:\n",
    "    return get_latest(tab_url, archive_url.timestamp.year - try_year)\n",
    "  else:\n",
    "    return archive_url\n",
    "  "
   ]
  },
  {
   "cell_type": "markdown",
   "metadata": {},
   "source": [
    "## Stáhne a parsuje tabulaturu"
   ]
  },
  {
   "cell_type": "code",
   "execution_count": null,
   "metadata": {},
   "outputs": [],
   "source": [
    "def download_tab(tab_url, retry=False):\n",
    "\n",
    "    tab_id = re.search(r\"id=(\\d+)\", tab_url).group(1)\n",
    "    filename = \"output/json/{}.json\".format(tab_id)\n",
    "\n",
    "    if os.path.exists(filename):\n",
    "        return\n",
    "\n",
    "    try:\n",
    "\n",
    "        archive_url = get_latest(tab_url)\n",
    "\n",
    "        if archive_url == None:\n",
    "            print(\" => NO DATA\")\n",
    "            f = open(filename, \"w\", encoding=\"utf-8\")\n",
    "            f.write(\"\")\n",
    "            f.close()\n",
    "            return\n",
    "\n",
    "        html = archive_url.get()\n",
    "\n",
    "        soup = BeautifulSoup(html, \"html.parser\")\n",
    "\n",
    "        data = {\n",
    "            \"id\": tab_id,\n",
    "            \"title\": soup.find(\"h1\").text,\n",
    "            \"tab\": soup.find(class_=\"tabshow\").text,\n",
    "        }\n",
    "\n",
    "        print(\" => ID: {}\".format(data[\"id\"]))\n",
    "        print(\" => Title: {}\".format(data[\"title\"]))\n",
    "        print(\" => File: {}\".format(filename))\n",
    "\n",
    "        f = open(filename, \"w\", encoding=\"utf-8\")\n",
    "        f.write(json.dumps(data))\n",
    "        f.close()\n",
    "\n",
    "        print(\" => Done.\")\n",
    "\n",
    "    except WaybackError:\n",
    "        if retry == False:\n",
    "            print(\" => API ERROR, retry in {} sec\".format(API_ERROR_DELAY))\n",
    "            time.sleep(API_ERROR_DELAY)\n",
    "            print(\" => Retrying...\")\n",
    "            download_tab(tab_url, True)\n",
    "        else:\n",
    "            f = open(\"errors.log\", \"a\", encoding=\"utf-8\")\n",
    "            f.write(tab_url + \"\\n\")\n",
    "            f.close()\n",
    "            return\n",
    "\n",
    "    except Exception:\n",
    "        f = open(\"errors.log\", \"a\", encoding=\"utf-8\")\n",
    "        f.write(tab_url + \"\\n\")\n",
    "        f.close()\n"
   ]
  },
  {
   "cell_type": "markdown",
   "metadata": {},
   "source": [
    "## Stahování tabulatur"
   ]
  },
  {
   "cell_type": "code",
   "execution_count": null,
   "metadata": {},
   "outputs": [],
   "source": [
    "f = open(\"errors.log\", \"w\", encoding=\"utf-8\")\n",
    "f.write(\"\")\n",
    "f.close()\n",
    "\n",
    "for i, tab_url in enumerate(tab_urls):\n",
    "\n",
    "    clear_output(wait=True)\n",
    "\n",
    "    percent = round(((i + 1) / len(tab_urls)) * 100, 2)\n",
    "    print(\"{}% ({}/{}) {}\".format(percent, i, len(tab_urls), tab_url))\n",
    "    \n",
    "    download_tab(tab_url)\n",
    "    \n",
    "clear_output()\n",
    "\n",
    "print(\"Finished.\")\n"
   ]
  }
 ],
 "metadata": {
  "interpreter": {
   "hash": "c1cc9d08c99e05cd0ef8f88e2c2514334eadafc80cba125cf7b7585e3c330d21"
  },
  "kernelspec": {
   "display_name": "Python 3.9.7 64-bit ('tabs-downloader': conda)",
   "name": "python3"
  },
  "language_info": {
   "codemirror_mode": {
    "name": "ipython",
    "version": 3
   },
   "file_extension": ".py",
   "mimetype": "text/x-python",
   "name": "python",
   "nbconvert_exporter": "python",
   "pygments_lexer": "ipython3",
   "version": "3.9.7"
  },
  "orig_nbformat": 4
 },
 "nbformat": 4,
 "nbformat_minor": 2
}
